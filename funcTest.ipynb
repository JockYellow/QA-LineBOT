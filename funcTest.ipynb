{
 "cells": [
  {
   "cell_type": "code",
   "execution_count": null,
   "metadata": {},
   "outputs": [],
   "source": [
    "import os\n",
    "import openai\n",
    "import requests\n",
    "\n",
    "openai.api_key = os.getenv(\"OPENAI_API_KEY\")\n",
    "eduKey = os.getenv(\"EDU_KEY\")\n",
    "print(openai.api_key)\n",
    "print(eduKey)"
   ]
  },
  {
   "cell_type": "code",
   "execution_count": 2,
   "metadata": {},
   "outputs": [],
   "source": [
    "\n",
    "def CallEduContent(keyWord): #回傳我要的資料\n",
    "    url = f\"https://pedia.cloud.edu.tw/api/v2/List?keyword={keyWord}&page=1&api_key={eduKey}\"\n",
    "    eduBack = requests.get(url)\n",
    "    eduBackJson = eduBack.json()\n",
    "    #檢查長度\n",
    "    SelectedContent = []\n",
    "    current_length = 0\n",
    "    \n",
    "    for item in eduBackJson:\n",
    "        title = item[\"WordTitle\"]\n",
    "        desc = item[\"WordDesc\"]\n",
    "        title_length = len(title)\n",
    "        desc_length = len(desc)\n",
    "        \n",
    "        # 檢查是否超過總長度限制\n",
    "        if current_length + title_length + desc_length <= 800:\n",
    "            SelectedContent.append({\"WordTitle\": title, \"WordDesc\": desc})\n",
    "            current_length += title_length + desc_length\n",
    "        else:\n",
    "            break\n",
    "    \n",
    "    return SelectedContent\n"
   ]
  },
  {
   "cell_type": "code",
   "execution_count": 3,
   "metadata": {},
   "outputs": [
    {
     "name": "stdout",
     "output_type": "stream",
     "text": [
      "{\"question\": \"以下哪個選項錯誤？\", \"options\": {\"A\": \"風花雪月形容四季景色。\", \"B\": \"馬耳東風比喻對事情漠不關心。\", \"C\": \"飄風吹馬耳形容對事情漠不關心。\", \"D\": \"風花雪月形容對事情漠不關心。\"}, \"answer\": {\"D\": \"風花雪月形容對事情漠不關心。風花雪月的意思是指四時景色，並不是形容對事情漠不關心。\"}\n"
     ]
    }
   ],
   "source": [
    "\n",
    "def generate_question(keyWord):\n",
    "    formatted_text = \"你是我的出題的小老師，學生有提問，請根據我提供的搜尋文本中，挑選其中與學生提問最相關的\\\"WordTitle\\\"設計題目，答題者並沒有看過文本，請你設計一則選擇題，共有四個選項，要選出當中錯誤敘述，並且在答案選項後面說明該選項錯誤的原因。\\n\\n回傳為以下json格式:\\n{[question:{請你依據文字設計}],[option:[A:{請設計題目},B:{請設計題目},C:{請設計題目}D:{請設計題目}],[answer:{{選項}:{請說明該選項錯誤的原因並糾正}}]}\\n範例:\\n{\\\"question\\\": \\\"以下哪個選項錯誤？\\\", \\\"options\\\": {\\\"A\\\": \\\"目不交睫形容人辛勞或憂慮的沒有時間睡覺。\\\", \\\"B\\\": \\\"枕戈待旦形容時時警惕，準備作戰，不敢安睡。\\\", \\\"C\\\": \\\"花天酒地原指在美好的環境中飲酒作樂。\\\", \\\"D\\\": \\\"夙夜匪懈形容工作很勤奮。\\\"}, \\\"answer\\\": {\\\"D\\\": \\\"夙夜匪懈形容工作很勤奮。夙夜匪懈的意思是早晚都不懈怠，全心投入工作，而不是形容工作很勤奮。\\\"}}\\n\\n學生的問題為{{keyWord}}:\\n請用以下文本設計:\"\n",
    "    trainCommand = formatted_text.replace(\"{{keyWord}}\", keyWord) #為了可以將keyWord加入提示詞\n",
    "    response = openai.ChatCompletion.create(\n",
    "        model=\"gpt-3.5-turbo\",\n",
    "        messages=[\n",
    "            {\n",
    "                \"role\": \"system\",\n",
    "                \"content\": trainCommand\n",
    "            },\n",
    "            {\n",
    "                \"role\": \"user\",\n",
    "                \"content\": f\"{CallEduContent(keyWord)}\" #呼叫擷取的Content\n",
    "            },\n",
    "        ],\n",
    "        temperature=0.7,\n",
    "        max_tokens=630,\n",
    "        top_p=1,\n",
    "        frequency_penalty=0,\n",
    "        presence_penalty=0\n",
    "    )\n",
    "\n",
    "    return response[\"choices\"][0][\"message\"][\"content\"]\n",
    "# 使用示例\n",
    "keyWord = \"鏡花雪月\"\n",
    "response1 = generate_question(keyWord)\n",
    "print(response1)"
   ]
  },
  {
   "cell_type": "code",
   "execution_count": 4,
   "metadata": {},
   "outputs": [
    {
     "name": "stdout",
     "output_type": "stream",
     "text": [
      "<class 'str'>\n"
     ]
    }
   ],
   "source": [
    "print(type(response1))"
   ]
  }
 ],
 "metadata": {
  "kernelspec": {
   "display_name": "Python 3",
   "language": "python",
   "name": "python3"
  },
  "language_info": {
   "codemirror_mode": {
    "name": "ipython",
    "version": 3
   },
   "file_extension": ".py",
   "mimetype": "text/x-python",
   "name": "python",
   "nbconvert_exporter": "python",
   "pygments_lexer": "ipython3",
   "version": "3.11.1"
  },
  "orig_nbformat": 4
 },
 "nbformat": 4,
 "nbformat_minor": 2
}
